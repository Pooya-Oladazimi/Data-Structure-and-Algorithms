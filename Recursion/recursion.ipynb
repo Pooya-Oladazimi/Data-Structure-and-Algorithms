{
 "cells": [
  {
   "cell_type": "code",
   "execution_count": 1,
   "id": "dda08f34",
   "metadata": {},
   "outputs": [],
   "source": [
    "def factorial(n):\n",
    "    '''\n",
    "    Factorial function:\n",
    "        F(n) = n * F(n-1)\n",
    "        F(0) = 1\n",
    "        F(x<0) = Not valid\n",
    "        F(non integer) = Not Valid\n",
    "        \n",
    "        Ex:\n",
    "            F(4) = 4 * 3 * 2 * 1 = 24\n",
    "    '''\n",
    "    \n",
    "    assert n >= 0 and int(n) == n, \"Invalid Input\"\n",
    "    if n in [0, 1]:\n",
    "        return 1\n",
    "    return n * factorial(n-1)"
   ]
  },
  {
   "cell_type": "code",
   "execution_count": 2,
   "id": "d969a384",
   "metadata": {},
   "outputs": [],
   "source": [
    "def fibonacci(n):\n",
    "    '''\n",
    "    Fibonacci function\n",
    "        F(n) = F(n-1) + F(n-2)\n",
    "        F(0) = 0\n",
    "        F(1) = 1\n",
    "        F(x<0) = Not valid\n",
    "        F(non integer) = Not Valid\n",
    "        \n",
    "        Ex:\n",
    "            F(5) = 5  (0,1,1,2,3,5)\n",
    "    '''\n",
    "    \n",
    "    assert n >=0 and int(n) == n, \"Invalid Input\"\n",
    "    if n == 0:\n",
    "        return 0\n",
    "    elif n == 1:\n",
    "        return 1\n",
    "    else:\n",
    "        return fibonacci(n-1) + fibonacci(n-2)"
   ]
  },
  {
   "cell_type": "code",
   "execution_count": 3,
   "id": "d22a06e6",
   "metadata": {},
   "outputs": [],
   "source": [
    "def sum_of_digits(n):\n",
    "    '''\n",
    "    Sum of Digits function:\n",
    "        F(24) = 6 (2+4)\n",
    "        F(234) = 9 (2+3+4)\n",
    "        F(x<0) = Not valid\n",
    "        F(non integer) = Not Valid        \n",
    "    '''\n",
    "    \n",
    "    assert n >=0 and int(n) == n, \"Invalid Input\"\n",
    "    if n < 100:\n",
    "        return int(n / 10) + (n % 10)\n",
    "    return (n % 10) + sum_of_digits(int(n / 10))"
   ]
  },
  {
   "cell_type": "code",
   "execution_count": 4,
   "id": "a463ede1",
   "metadata": {},
   "outputs": [],
   "source": [
    "def power(x, n):\n",
    "    '''\n",
    "    Power function:\n",
    "        F(X,n) = X * X * (n times) * X \n",
    "        F(X, 0) = 1\n",
    "        \n",
    "        This funtion does not accept non-integer power.\n",
    "    '''\n",
    "    \n",
    "    assert int(n) == n, \"Invalid Input\"\n",
    "    if n == 0:\n",
    "        return 1\n",
    "    elif n < 0:\n",
    "        return (1/x) * power(x, n+1)\n",
    "    return x * power(x, n-1)"
   ]
  },
  {
   "cell_type": "code",
   "execution_count": 23,
   "id": "eb32a575",
   "metadata": {},
   "outputs": [],
   "source": [
    "def GCD(num1, num2):\n",
    "    '''\n",
    "    Greatest Common Devisor\n",
    "        F(x,y) = n, where n is the greatest number that both x and y are divisible to\n",
    "        F(24, 16) = 8\n",
    "        F(25, 8) = 1\n",
    "        F(16, 8) = 8\n",
    "        F(x, 0) = x\n",
    "    '''\n",
    "    \n",
    "    assert int(num1) == num1 and int(num2) == num2, \"Input must be an integer\" \n",
    "    num1 = abs(num1)\n",
    "    num2 = abs(num2)\n",
    "    if num2 == 0:\n",
    "        return num1    \n",
    "    return GCD(num2, int(num1 % num2))\n",
    "    "
   ]
  },
  {
   "cell_type": "code",
   "execution_count": 31,
   "id": "3df76db3",
   "metadata": {},
   "outputs": [],
   "source": [
    "def DecimalToBinary(n):\n",
    "    '''\n",
    "    Convert a decimal number to binary\n",
    "        F(25) = 11001\n",
    "        F(0) = 0\n",
    "        F(1) = 1\n",
    "    '''\n",
    "    assert int(n) == n, \"Input must be an integer\"\n",
    "    if n == 0:\n",
    "        return 0\n",
    "    return (n % 2) + 10 * DecimalToBinary(int(n/2))"
   ]
  },
  {
   "cell_type": "code",
   "execution_count": 33,
   "id": "57fa65af",
   "metadata": {},
   "outputs": [],
   "source": [
    "assert factorial(4) == 24\n",
    "assert fibonacci(5) == 5\n",
    "assert sum_of_digits(8765) == 26 \n",
    "assert power(3, 4) == 81\n",
    "assert power(2, -5) == 0.03125\n",
    "assert GCD(24, -16) == 8\n",
    "assert DecimalToBinary(25) == 11001"
   ]
  },
  {
   "cell_type": "code",
   "execution_count": null,
   "id": "d11b23ad",
   "metadata": {},
   "outputs": [],
   "source": []
  },
  {
   "cell_type": "code",
   "execution_count": null,
   "id": "207dbe33",
   "metadata": {},
   "outputs": [],
   "source": []
  },
  {
   "cell_type": "code",
   "execution_count": null,
   "id": "22edd6ea",
   "metadata": {},
   "outputs": [],
   "source": []
  }
 ],
 "metadata": {
  "kernelspec": {
   "display_name": "Python 3 (ipykernel)",
   "language": "python",
   "name": "python3"
  },
  "language_info": {
   "codemirror_mode": {
    "name": "ipython",
    "version": 3
   },
   "file_extension": ".py",
   "mimetype": "text/x-python",
   "name": "python",
   "nbconvert_exporter": "python",
   "pygments_lexer": "ipython3",
   "version": "3.8.10"
  }
 },
 "nbformat": 4,
 "nbformat_minor": 5
}
