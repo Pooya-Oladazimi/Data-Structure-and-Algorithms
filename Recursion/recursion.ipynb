{
 "cells": [
  {
   "cell_type": "code",
   "execution_count": 6,
   "id": "b6d06ce6",
   "metadata": {},
   "outputs": [],
   "source": [
    "def factorial(n):\n",
    "    '''\n",
    "    Factorial function:\n",
    "        F(n) = n * F(n-1)\n",
    "        F(0) = 1\n",
    "        F(x<0) = Not valid\n",
    "        F(non integer) = Not Valid\n",
    "        \n",
    "        Ex:\n",
    "            F(4) = 4 * 3 * 2 * 1 = 24\n",
    "    '''\n",
    "    \n",
    "    assert n >= 0 and int(n) == n, \"Invalid Input\"\n",
    "    if n in [0, 1]:\n",
    "        return 1\n",
    "    return n * factorial(n-1)"
   ]
  },
  {
   "cell_type": "code",
   "execution_count": 7,
   "id": "40ef599a",
   "metadata": {},
   "outputs": [],
   "source": [
    "def fibonacci(n):\n",
    "    '''\n",
    "    Fibonacci function\n",
    "        F(n) = F(n-1) + F(n-2)\n",
    "        F(0) = 0\n",
    "        F(1) = 1\n",
    "        F(x<0) = Not valid\n",
    "        F(non integer) = Not Valid\n",
    "        \n",
    "        Ex:\n",
    "            F(5) = 5  (0,1,1,2,3,5)\n",
    "    '''\n",
    "    \n",
    "    assert n >=0 and int(n) == n, \"Invalid Input\"\n",
    "    if n == 0:\n",
    "        return 0\n",
    "    elif n == 1:\n",
    "        return 1\n",
    "    else:\n",
    "        return fibonacci(n-1) + fibonacci(n-2)"
   ]
  },
  {
   "cell_type": "code",
   "execution_count": 22,
   "id": "727cb86e",
   "metadata": {},
   "outputs": [],
   "source": [
    "def sum_of_digits(n):\n",
    "    '''\n",
    "    Sum of Digits function:\n",
    "        F(24) = 6 (2+4)\n",
    "        F(234) = 9 (2+3+4)\n",
    "        F(x<0) = Not valid\n",
    "        F(non integer) = Not Valid        \n",
    "    '''\n",
    "    \n",
    "    assert n >=0 and int(n) == n, \"Invalid Input\"\n",
    "    if n < 100:\n",
    "        return int(n / 10) + (n % 10)\n",
    "    return (n % 10) + sum_of_digits(int(n / 10))"
   ]
  },
  {
   "cell_type": "code",
   "execution_count": 25,
   "id": "401ebc2b",
   "metadata": {},
   "outputs": [],
   "source": [
    "assert factorial(4) == 24\n",
    "assert fibonacci(5) == 5\n",
    "assert sum_of_digits(8765) == 26 "
   ]
  },
  {
   "cell_type": "code",
   "execution_count": null,
   "id": "dd49465f",
   "metadata": {},
   "outputs": [],
   "source": []
  },
  {
   "cell_type": "code",
   "execution_count": null,
   "id": "94081164",
   "metadata": {},
   "outputs": [],
   "source": []
  },
  {
   "cell_type": "code",
   "execution_count": null,
   "id": "a898b628",
   "metadata": {},
   "outputs": [],
   "source": []
  }
 ],
 "metadata": {
  "kernelspec": {
   "display_name": "Python 3 (ipykernel)",
   "language": "python",
   "name": "python3"
  },
  "language_info": {
   "codemirror_mode": {
    "name": "ipython",
    "version": 3
   },
   "file_extension": ".py",
   "mimetype": "text/x-python",
   "name": "python",
   "nbconvert_exporter": "python",
   "pygments_lexer": "ipython3",
   "version": "3.8.10"
  }
 },
 "nbformat": 4,
 "nbformat_minor": 5
}
