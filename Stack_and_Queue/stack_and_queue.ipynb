{
 "cells": [
  {
   "cell_type": "markdown",
   "id": "4164691c",
   "metadata": {},
   "source": [
    "# Stack"
   ]
  },
  {
   "cell_type": "code",
   "execution_count": 21,
   "id": "b75cabb6",
   "metadata": {},
   "outputs": [],
   "source": [
    "class ListStack:\n",
    "    def __init__(self, size):\n",
    "        self.list = []\n",
    "        self.size = size\n",
    "    \n",
    "    def isEmpty(self):\n",
    "        if len(self.list) == 0:\n",
    "            return True\n",
    "        return False\n",
    "    \n",
    "    def isFull(self):\n",
    "        if self.size == -1:\n",
    "            return False\n",
    "        elif len(self.list) == self.size:\n",
    "            return True\n",
    "        return False\n",
    "    \n",
    "    def pop(self):\n",
    "        if self.isEmpty():\n",
    "            print(\"Stack is Empty\")\n",
    "            return False\n",
    "        return self.list.pop()\n",
    "    \n",
    "    def push(self, value):\n",
    "        if self.isFull():\n",
    "            print(\"Stack is full\")\n",
    "            return False\n",
    "        return self.list.append(value)\n",
    "    \n",
    "    def render(self):\n",
    "        items = [str(i) for i in self.list]\n",
    "        print('\\n'.join(items))"
   ]
  },
  {
   "cell_type": "code",
   "execution_count": 22,
   "id": "0032ac4b",
   "metadata": {},
   "outputs": [
    {
     "name": "stdout",
     "output_type": "stream",
     "text": [
      "20\n",
      "30\n"
     ]
    }
   ],
   "source": [
    "stack1 = ListStack(-1)\n",
    "stack1.push(20)\n",
    "stack1.push(30)\n",
    "stack1.push(40)\n",
    "stack1.pop()\n",
    "stack1.render()"
   ]
  },
  {
   "cell_type": "code",
   "execution_count": 23,
   "id": "607f97c5",
   "metadata": {},
   "outputs": [
    {
     "name": "stdout",
     "output_type": "stream",
     "text": [
      "Stack is full\n",
      "20\n",
      "30\n"
     ]
    }
   ],
   "source": [
    "stack1 = ListStack(2)\n",
    "stack1.push(20)\n",
    "stack1.push(30)\n",
    "stack1.push(40)\n",
    "stack1.render()"
   ]
  },
  {
   "cell_type": "markdown",
   "id": "9fe34762",
   "metadata": {},
   "source": [
    "# Linked List Stack"
   ]
  },
  {
   "cell_type": "code",
   "execution_count": 24,
   "id": "ab7d4970",
   "metadata": {},
   "outputs": [],
   "source": [
    "class Node:\n",
    "    def __init__(self, value):\n",
    "        self.value = value\n",
    "        self.next = None\n",
    "        \n",
    "\n",
    "class LinkedListStack:\n",
    "    def __init__(self):\n",
    "        self.head = None\n",
    "        self.tail = None\n",
    "    \n",
    "    def isEmpty(self):\n",
    "        if not self.head:\n",
    "            return True\n",
    "        return False\n",
    "    \n",
    "    def pop(self):\n",
    "        if self.isEmpty():\n",
    "            print(\"Stack is Empty\")\n",
    "            return False\n",
    "        item = self.head.value\n",
    "        self.head = self.head.next\n",
    "        return item\n",
    "    \n",
    "    def push(self, value):\n",
    "        node = Node(value)\n",
    "        if not self.head:            \n",
    "            self.head = node\n",
    "            self.tail = node\n",
    "        else:            \n",
    "            node.next = self.head\n",
    "            self.head = node                        \n",
    "    \n",
    "    def render(self):\n",
    "        node = self.head\n",
    "        while node:\n",
    "            print(node.value)\n",
    "            node = node.next"
   ]
  },
  {
   "cell_type": "code",
   "execution_count": 25,
   "id": "db22fa39",
   "metadata": {},
   "outputs": [
    {
     "name": "stdout",
     "output_type": "stream",
     "text": [
      "30\n",
      "20\n"
     ]
    }
   ],
   "source": [
    "stack2 = LinkedListStack()\n",
    "stack2.push(20)\n",
    "stack2.push(30)\n",
    "stack2.push(40)\n",
    "stack2.pop()\n",
    "stack2.render()"
   ]
  },
  {
   "cell_type": "code",
   "execution_count": null,
   "id": "0ffd67bd",
   "metadata": {},
   "outputs": [],
   "source": []
  },
  {
   "cell_type": "code",
   "execution_count": null,
   "id": "43f4cf13",
   "metadata": {},
   "outputs": [],
   "source": []
  },
  {
   "cell_type": "code",
   "execution_count": null,
   "id": "77a37e00",
   "metadata": {},
   "outputs": [],
   "source": []
  }
 ],
 "metadata": {
  "kernelspec": {
   "display_name": "Python 3 (ipykernel)",
   "language": "python",
   "name": "python3"
  },
  "language_info": {
   "codemirror_mode": {
    "name": "ipython",
    "version": 3
   },
   "file_extension": ".py",
   "mimetype": "text/x-python",
   "name": "python",
   "nbconvert_exporter": "python",
   "pygments_lexer": "ipython3",
   "version": "3.8.10"
  }
 },
 "nbformat": 4,
 "nbformat_minor": 5
}
