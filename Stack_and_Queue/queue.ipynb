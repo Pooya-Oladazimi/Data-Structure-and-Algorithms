{
 "cells": [
  {
   "cell_type": "markdown",
   "id": "a24128bf",
   "metadata": {},
   "source": [
    "# Circular Queue"
   ]
  },
  {
   "cell_type": "code",
   "execution_count": 3,
   "id": "9ac1b275",
   "metadata": {},
   "outputs": [],
   "source": [
    "class CQueue:\n",
    "    def __init__(self, size):\n",
    "        self.queue = size * [None]\n",
    "        self.start = -1\n",
    "        self.top = -1\n",
    "    \n",
    "    def printQ(self):        \n",
    "        print(\" \".join([str(item) for item in self.queue]))\n",
    "    \n",
    "    def isFull(self):\n",
    "        if self.top + 1 == self.start:\n",
    "            return True\n",
    "        elif self.start == 0 and self.top + 1 == len(self.queue):\n",
    "            return True\n",
    "        return False\n",
    "    \n",
    "    def isEmpty(self):\n",
    "        if self.top == -1:\n",
    "            return True\n",
    "        return False\n",
    "    \n",
    "    def enqueue(self, value):\n",
    "        if self.isFull():\n",
    "            print(\"Queue is FUll!\")\n",
    "        else:\n",
    "            if self.top + 1 == len(self.queue):\n",
    "                self.top = 0\n",
    "            else:\n",
    "                self.top += 1\n",
    "                if self.start == -1:\n",
    "                    self.start = 0\n",
    "            self.queue[self.top] = value\n",
    "    \n",
    "    def dequeue(self):\n",
    "        if self.isEmpty():\n",
    "            print(\"Queue is Empty\")\n",
    "        else:\n",
    "            start = self.start\n",
    "            element = self.queue[self.start]\n",
    "            if self.start == self.top:\n",
    "                self.start = -1\n",
    "                self.top = -1\n",
    "            elif self.start + 1 == len(self.queue):\n",
    "                self.start = 0\n",
    "            else:\n",
    "                self.start += 1\n",
    "            \n",
    "            self.queue[start] = None\n",
    "            return element\n",
    "            \n",
    "    "
   ]
  },
  {
   "cell_type": "code",
   "execution_count": 4,
   "id": "e6bf4429",
   "metadata": {},
   "outputs": [],
   "source": [
    "cq = CQueue(5)"
   ]
  },
  {
   "cell_type": "code",
   "execution_count": 5,
   "id": "fe964383",
   "metadata": {},
   "outputs": [],
   "source": [
    "cq.enqueue(10)\n",
    "cq.enqueue(20)\n",
    "cq.enqueue(40)\n",
    "cq.enqueue(80)\n",
    "cq.enqueue(100)"
   ]
  },
  {
   "cell_type": "code",
   "execution_count": 6,
   "id": "2e40e44e",
   "metadata": {},
   "outputs": [
    {
     "name": "stdout",
     "output_type": "stream",
     "text": [
      "10 20 40 80 100\n"
     ]
    }
   ],
   "source": [
    "cq.printQ()"
   ]
  },
  {
   "cell_type": "code",
   "execution_count": 7,
   "id": "8a2d52b9",
   "metadata": {},
   "outputs": [
    {
     "name": "stdout",
     "output_type": "stream",
     "text": [
      "Queue is FUll!\n"
     ]
    }
   ],
   "source": [
    "cq.enqueue(200)"
   ]
  },
  {
   "cell_type": "code",
   "execution_count": 8,
   "id": "6127f9c0",
   "metadata": {},
   "outputs": [
    {
     "data": {
      "text/plain": [
       "10"
      ]
     },
     "execution_count": 8,
     "metadata": {},
     "output_type": "execute_result"
    }
   ],
   "source": [
    "cq.dequeue()"
   ]
  },
  {
   "cell_type": "code",
   "execution_count": 9,
   "id": "7d656625",
   "metadata": {},
   "outputs": [
    {
     "data": {
      "text/plain": [
       "20"
      ]
     },
     "execution_count": 9,
     "metadata": {},
     "output_type": "execute_result"
    }
   ],
   "source": [
    "cq.dequeue()"
   ]
  },
  {
   "cell_type": "code",
   "execution_count": 10,
   "id": "e47e8451",
   "metadata": {},
   "outputs": [
    {
     "name": "stdout",
     "output_type": "stream",
     "text": [
      "200 None 40 80 100\n"
     ]
    }
   ],
   "source": [
    "cq.enqueue(200)\n",
    "cq.printQ()"
   ]
  },
  {
   "cell_type": "markdown",
   "id": "86cd71c3",
   "metadata": {},
   "source": [
    "# Python Queue"
   ]
  },
  {
   "cell_type": "code",
   "execution_count": 11,
   "id": "6dd8c814",
   "metadata": {},
   "outputs": [
    {
     "data": {
      "text/plain": [
       "10"
      ]
     },
     "execution_count": 11,
     "metadata": {},
     "output_type": "execute_result"
    }
   ],
   "source": [
    "from collections import deque\n",
    "\n",
    "collectionsQueue = deque(maxlen=5)\n",
    "collectionsQueue.append(10)\n",
    "collectionsQueue.append(20)\n",
    "collectionsQueue.append(30)\n",
    "collectionsQueue.popleft()"
   ]
  },
  {
   "cell_type": "code",
   "execution_count": 12,
   "id": "34f9b410",
   "metadata": {},
   "outputs": [
    {
     "data": {
      "text/plain": [
       "10"
      ]
     },
     "execution_count": 12,
     "metadata": {},
     "output_type": "execute_result"
    }
   ],
   "source": [
    "import queue\n",
    "\n",
    "Q = queue.Queue(maxsize=5)\n",
    "Q.put(10)\n",
    "Q.put(30)\n",
    "Q.put(70)\n",
    "Q.get()"
   ]
  },
  {
   "cell_type": "code",
   "execution_count": 13,
   "id": "0366ea9f",
   "metadata": {},
   "outputs": [
    {
     "data": {
      "text/plain": [
       "10"
      ]
     },
     "execution_count": 13,
     "metadata": {},
     "output_type": "execute_result"
    }
   ],
   "source": [
    "from multiprocessing import Queue\n",
    "\n",
    "multQ = Queue(maxsize=5)\n",
    "multQ.put(10)\n",
    "multQ.put(20)\n",
    "multQ.put(40)\n",
    "multQ.get()"
   ]
  },
  {
   "cell_type": "code",
   "execution_count": null,
   "id": "4c7843a2",
   "metadata": {},
   "outputs": [],
   "source": []
  },
  {
   "cell_type": "code",
   "execution_count": null,
   "id": "1d1caf1a",
   "metadata": {},
   "outputs": [],
   "source": []
  },
  {
   "cell_type": "code",
   "execution_count": null,
   "id": "bf6e1d52",
   "metadata": {},
   "outputs": [],
   "source": []
  }
 ],
 "metadata": {
  "kernelspec": {
   "display_name": "Python 3 (ipykernel)",
   "language": "python",
   "name": "python3"
  },
  "language_info": {
   "codemirror_mode": {
    "name": "ipython",
    "version": 3
   },
   "file_extension": ".py",
   "mimetype": "text/x-python",
   "name": "python",
   "nbconvert_exporter": "python",
   "pygments_lexer": "ipython3",
   "version": "3.8.10"
  }
 },
 "nbformat": 4,
 "nbformat_minor": 5
}
