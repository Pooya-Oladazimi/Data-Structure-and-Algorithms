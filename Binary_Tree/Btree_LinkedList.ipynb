{
 "cells": [
  {
   "cell_type": "code",
   "execution_count": 83,
   "id": "19af2012",
   "metadata": {},
   "outputs": [],
   "source": [
    "import queue"
   ]
  },
  {
   "cell_type": "code",
   "execution_count": 84,
   "id": "cc9ff203",
   "metadata": {},
   "outputs": [],
   "source": [
    "class TreeNode:\n",
    "    def __init__(self, nodeValue):\n",
    "        self.value = nodeValue\n",
    "        self.leftChild = None\n",
    "        self.rightChild = None"
   ]
  },
  {
   "cell_type": "code",
   "execution_count": 112,
   "id": "00d1ca78",
   "metadata": {},
   "outputs": [],
   "source": [
    "n1 = TreeNode(\"N1\")\n",
    "n2 = TreeNode(\"N2\")\n",
    "n3 = TreeNode(\"N3\")\n",
    "n4 = TreeNode(\"N4\")\n",
    "n5 = TreeNode(\"N5\")\n",
    "n6 = TreeNode(\"N6\")\n",
    "n34 = TreeNode(\"N34\")\n",
    "n1.leftChild = n2\n",
    "n1.rightChild = n3\n",
    "n2.leftChild = n4\n",
    "n2.rightChild = n5\n",
    "n3.leftChild = n6\n",
    "n4.leftChild = n34"
   ]
  },
  {
   "cell_type": "code",
   "execution_count": 86,
   "id": "93faa61c",
   "metadata": {},
   "outputs": [],
   "source": [
    "def dfs_inOrder(rootNode):\n",
    "    if not rootNode:\n",
    "        return\n",
    "    dfs_inOrder(rootNode.leftChild)\n",
    "    print(rootNode.value)\n",
    "    dfs_inOrder(rootNode.rightChild)\n",
    "\n",
    "def dfs_preOrder(rootNode):\n",
    "    if not rootNode:\n",
    "        return\n",
    "    print(rootNode.value)\n",
    "    dfs_preOrder(rootNode.leftChild)\n",
    "    dfs_preOrder(rootNode.rightChild)\n",
    "\n",
    "def dfs_postOrder(rootNode):\n",
    "    if not rootNode:\n",
    "        return    \n",
    "    dfs_postOrder(rootNode.leftChild)\n",
    "    dfs_postOrder(rootNode.rightChild)\n",
    "    print(rootNode.value)\n",
    "\n",
    "def bfs(rootNode):\n",
    "    if not rootNode:\n",
    "        return \"Root cannot be empty\"\n",
    "    treeQueue = queue.Queue()\n",
    "    treeQueue.put(rootNode)\n",
    "    while(not treeQueue.empty()):\n",
    "        visitingNode = treeQueue.get()\n",
    "        print(visitingNode.value)\n",
    "        if visitingNode.leftChild: \n",
    "            treeQueue.put(visitingNode.leftChild)\n",
    "        if visitingNode.rightChild:\n",
    "            treeQueue.put(visitingNode.rightChild)"
   ]
  },
  {
   "cell_type": "code",
   "execution_count": 87,
   "id": "a01ddfb4",
   "metadata": {},
   "outputs": [],
   "source": [
    "def search(rootNode, targetValue):\n",
    "    if not rootNode:\n",
    "        return False\n",
    "    treeQueue = queue.Queue()\n",
    "    treeQueue.put(rootNode)\n",
    "    while(not treeQueue.empty()):\n",
    "        visitingNode = treeQueue.get()\n",
    "        if visitingNode.value == targetValue:\n",
    "            return True\n",
    "        if visitingNode.leftChild: \n",
    "            treeQueue.put(visitingNode.leftChild)\n",
    "        if visitingNode.rightChild:\n",
    "            treeQueue.put(visitingNode.rightChild)\n",
    "    return False"
   ]
  },
  {
   "cell_type": "code",
   "execution_count": 88,
   "id": "f8c9ba45",
   "metadata": {},
   "outputs": [],
   "source": [
    "def insertNode(rootNode, newValue):\n",
    "    if not rootNode:\n",
    "        rootNode = TreeNode(newValue)\n",
    "        return True\n",
    "    treeQueue = queue.Queue()\n",
    "    treeQueue.put(rootNode)\n",
    "    while(not treeQueue.empty()):\n",
    "        visitingNode = treeQueue.get()\n",
    "        if not visitingNode.leftChild:\n",
    "            visitingNode.leftChild = TreeNode(newValue)\n",
    "            return True\n",
    "        else:\n",
    "            treeQueue.put(visitingNode.leftChild)\n",
    "        if not visitingNode.rightChild:\n",
    "            visitingNode.rightChild = TreeNode(newValue)\n",
    "            return True\n",
    "        else:\n",
    "            treeQueue.put(visitingNode.rightChild)"
   ]
  },
  {
   "cell_type": "code",
   "execution_count": 113,
   "id": "24fbd9de",
   "metadata": {},
   "outputs": [],
   "source": [
    "def getDeepestNode(rootNode):\n",
    "    if not rootNode:\n",
    "        return False\n",
    "    treeQueue = queue.Queue()\n",
    "    treeQueue.put(rootNode)\n",
    "    while(not treeQueue.empty()):\n",
    "        visitingNode = treeQueue.get()        \n",
    "        if visitingNode.leftChild:\n",
    "            treeQueue.put(visitingNode.leftChild)\n",
    "        if visitingNode.rightChild:\n",
    "            treeQueue.put(visitingNode.rightChild)\n",
    "    return visitingNode.value\n",
    "            \n",
    "def deleteDeepestNode(rootNode):\n",
    "    if not rootNode:\n",
    "        return False\n",
    "    treeQueue = queue.Queue()\n",
    "    treeQueue.put(rootNode)\n",
    "    while(not treeQueue.empty()):\n",
    "        visitingNode = treeQueue.get()        \n",
    "        if visitingNode.leftChild:\n",
    "            treeQueue.put(visitingNode.leftChild)\n",
    "        if visitingNode.rightChild:\n",
    "            treeQueue.put(visitingNode.rightChild)    \n",
    "    visitingNode.value = None\n",
    "    return True\n",
    "\n",
    "def deleteNode(rootNode, value):\n",
    "    if not rootNode:\n",
    "        return False\n",
    "    treeQueue = queue.Queue()\n",
    "    treeQueue.put(rootNode)\n",
    "    while(not treeQueue.empty()):\n",
    "        visitingNode = treeQueue.get()\n",
    "        if visitingNode.value == value:\n",
    "            visitingNode.value = getDeepestNode(rootNode)\n",
    "            deleteDeepestNode(rootNode)\n",
    "            return True\n",
    "        if visitingNode.leftChild:\n",
    "            treeQueue.put(visitingNode.leftChild)\n",
    "        if visitingNode.rightChild:\n",
    "            treeQueue.put(visitingNode.rightChild)   \n",
    "    return False  "
   ]
  },
  {
   "cell_type": "code",
   "execution_count": null,
   "id": "166d5239",
   "metadata": {},
   "outputs": [],
   "source": []
  },
  {
   "cell_type": "code",
   "execution_count": 114,
   "id": "db4aa2c7",
   "metadata": {},
   "outputs": [
    {
     "data": {
      "text/plain": [
       "True"
      ]
     },
     "execution_count": 114,
     "metadata": {},
     "output_type": "execute_result"
    }
   ],
   "source": [
    "deleteNode(n1, \"N2\")"
   ]
  },
  {
   "cell_type": "code",
   "execution_count": 115,
   "id": "1195beaf",
   "metadata": {},
   "outputs": [],
   "source": [
    "# insertNode(n1, \"N7\")\n",
    "# insertNode(n1, \"N8\")"
   ]
  },
  {
   "cell_type": "code",
   "execution_count": 116,
   "id": "2473fc6b",
   "metadata": {
    "scrolled": true
   },
   "outputs": [
    {
     "name": "stdout",
     "output_type": "stream",
     "text": [
      "N1\n",
      "N34\n",
      "N3\n",
      "N4\n",
      "N5\n",
      "N6\n",
      "None\n"
     ]
    }
   ],
   "source": [
    "bfs(n1)"
   ]
  },
  {
   "cell_type": "code",
   "execution_count": 106,
   "id": "6d4a5511",
   "metadata": {},
   "outputs": [
    {
     "data": {
      "text/plain": [
       "False"
      ]
     },
     "execution_count": 106,
     "metadata": {},
     "output_type": "execute_result"
    }
   ],
   "source": [
    "search(n1, \"N12\")"
   ]
  },
  {
   "cell_type": "code",
   "execution_count": null,
   "id": "a80ee514",
   "metadata": {},
   "outputs": [],
   "source": []
  },
  {
   "cell_type": "code",
   "execution_count": null,
   "id": "0426ca48",
   "metadata": {},
   "outputs": [],
   "source": []
  }
 ],
 "metadata": {
  "kernelspec": {
   "display_name": "Python 3 (ipykernel)",
   "language": "python",
   "name": "python3"
  },
  "language_info": {
   "codemirror_mode": {
    "name": "ipython",
    "version": 3
   },
   "file_extension": ".py",
   "mimetype": "text/x-python",
   "name": "python",
   "nbconvert_exporter": "python",
   "pygments_lexer": "ipython3",
   "version": "3.8.10"
  }
 },
 "nbformat": 4,
 "nbformat_minor": 5
}
