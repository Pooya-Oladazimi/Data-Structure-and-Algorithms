{
 "cells": [
  {
   "cell_type": "code",
   "execution_count": 64,
   "id": "690f398d",
   "metadata": {},
   "outputs": [],
   "source": [
    "# Create and Array\n",
    "\n",
    "from array import *"
   ]
  },
  {
   "cell_type": "code",
   "execution_count": 65,
   "id": "eba87743",
   "metadata": {},
   "outputs": [
    {
     "data": {
      "text/plain": [
       "array('i', [1, 2, 3, 4])"
      ]
     },
     "execution_count": 65,
     "metadata": {},
     "output_type": "execute_result"
    }
   ],
   "source": [
    "# array of integers\n",
    "int_array = array('i', [1,2,3,4])\n",
    "int_array"
   ]
  },
  {
   "cell_type": "code",
   "execution_count": 66,
   "id": "6c702cd5",
   "metadata": {},
   "outputs": [
    {
     "data": {
      "text/plain": [
       "array('d', [1.3, 4.5, 5.7])"
      ]
     },
     "execution_count": 66,
     "metadata": {},
     "output_type": "execute_result"
    }
   ],
   "source": [
    "# array of floats\n",
    "float_array = array('d', [1.3, 4.5, 5.7])\n",
    "float_array"
   ]
  },
  {
   "cell_type": "code",
   "execution_count": 67,
   "id": "4a43d7e6",
   "metadata": {},
   "outputs": [
    {
     "data": {
      "text/plain": [
       "array('i', [1, 100, 3, 4])"
      ]
     },
     "execution_count": 67,
     "metadata": {},
     "output_type": "execute_result"
    }
   ],
   "source": [
    "# replace\n",
    "\n",
    "int_array[1] = 100\n",
    "int_array"
   ]
  },
  {
   "cell_type": "code",
   "execution_count": 68,
   "id": "1f7a032c",
   "metadata": {},
   "outputs": [
    {
     "data": {
      "text/plain": [
       "array('i', [200, 1, 100, 3, 4])"
      ]
     },
     "execution_count": 68,
     "metadata": {},
     "output_type": "execute_result"
    }
   ],
   "source": [
    "# insert\n",
    "\n",
    "int_array.insert(0, 200)\n",
    "int_array"
   ]
  },
  {
   "cell_type": "code",
   "execution_count": 69,
   "id": "eb2e1916",
   "metadata": {},
   "outputs": [
    {
     "name": "stdout",
     "output_type": "stream",
     "text": [
      "200\n",
      "1\n",
      "100\n",
      "3\n",
      "4\n"
     ]
    }
   ],
   "source": [
    "# Travers\n",
    "\n",
    "for i in int_array:\n",
    "    print(i)"
   ]
  },
  {
   "cell_type": "code",
   "execution_count": 70,
   "id": "e3b4f566",
   "metadata": {},
   "outputs": [
    {
     "data": {
      "text/plain": [
       "array('i', [200, 1, 3, 4])"
      ]
     },
     "execution_count": 70,
     "metadata": {},
     "output_type": "execute_result"
    }
   ],
   "source": [
    "# delete\n",
    "\n",
    "int_array.remove(100)\n",
    "int_array"
   ]
  },
  {
   "cell_type": "code",
   "execution_count": 71,
   "id": "06007089",
   "metadata": {},
   "outputs": [
    {
     "data": {
      "text/plain": [
       "array('i', [200, 1, 3, 4, 3000])"
      ]
     },
     "execution_count": 71,
     "metadata": {},
     "output_type": "execute_result"
    }
   ],
   "source": [
    "int_array.append(3000)\n",
    "int_array"
   ]
  },
  {
   "cell_type": "code",
   "execution_count": 72,
   "id": "073e8e89",
   "metadata": {},
   "outputs": [
    {
     "data": {
      "text/plain": [
       "array('i', [200, 1, 3, 4, 3000, 4000, 5000, 6000])"
      ]
     },
     "execution_count": 72,
     "metadata": {},
     "output_type": "execute_result"
    }
   ],
   "source": [
    "ext = array('i', [4000, 5000, 6000])\n",
    "int_array.extend(ext)\n",
    "int_array"
   ]
  },
  {
   "cell_type": "code",
   "execution_count": 73,
   "id": "514aa304",
   "metadata": {},
   "outputs": [
    {
     "data": {
      "text/plain": [
       "array('i', [200, 1, 3, 4, 3000, 4000, 5000, 6000, 22, 33, 44])"
      ]
     },
     "execution_count": 73,
     "metadata": {},
     "output_type": "execute_result"
    }
   ],
   "source": [
    "ext2 = [22, 33, 44]\n",
    "int_array.fromlist(ext2)\n",
    "int_array"
   ]
  },
  {
   "cell_type": "code",
   "execution_count": 74,
   "id": "073fae90",
   "metadata": {},
   "outputs": [
    {
     "data": {
      "text/plain": [
       "44"
      ]
     },
     "execution_count": 74,
     "metadata": {},
     "output_type": "execute_result"
    }
   ],
   "source": [
    "int_array.pop()"
   ]
  },
  {
   "cell_type": "code",
   "execution_count": 75,
   "id": "5551a8a8",
   "metadata": {},
   "outputs": [
    {
     "data": {
      "text/plain": [
       "array('i', [200, 1, 3, 4, 3000, 4000, 5000, 6000, 22, 33])"
      ]
     },
     "execution_count": 75,
     "metadata": {},
     "output_type": "execute_result"
    }
   ],
   "source": [
    "int_array"
   ]
  },
  {
   "cell_type": "code",
   "execution_count": 76,
   "id": "a1f9d154",
   "metadata": {},
   "outputs": [
    {
     "data": {
      "text/plain": [
       "4"
      ]
     },
     "execution_count": 76,
     "metadata": {},
     "output_type": "execute_result"
    }
   ],
   "source": [
    "int_array.index(3000)"
   ]
  },
  {
   "cell_type": "code",
   "execution_count": 77,
   "id": "db651f3c",
   "metadata": {},
   "outputs": [
    {
     "data": {
      "text/plain": [
       "array('i', [33, 22, 6000, 5000, 4000, 3000, 4, 3, 1, 200])"
      ]
     },
     "execution_count": 77,
     "metadata": {},
     "output_type": "execute_result"
    }
   ],
   "source": [
    "int_array.reverse()\n",
    "int_array"
   ]
  },
  {
   "cell_type": "code",
   "execution_count": 78,
   "id": "db2b07e7",
   "metadata": {},
   "outputs": [
    {
     "data": {
      "text/plain": [
       "array('i', [22, 6000, 5000])"
      ]
     },
     "execution_count": 78,
     "metadata": {},
     "output_type": "execute_result"
    }
   ],
   "source": [
    "int_array[1:4]"
   ]
  },
  {
   "cell_type": "code",
   "execution_count": 79,
   "id": "f0f4446b",
   "metadata": {},
   "outputs": [
    {
     "data": {
      "text/plain": [
       "array([[ 1,  2,  3],\n",
       "       [ 4,  5,  6],\n",
       "       [10, 20, 90]])"
      ]
     },
     "execution_count": 79,
     "metadata": {},
     "output_type": "execute_result"
    }
   ],
   "source": [
    "import numpy as np\n",
    "\n",
    "two_dim_array = np.array([[1,2,3], [4,5,6], [10,20,90]])\n",
    "two_dim_array"
   ]
  },
  {
   "cell_type": "code",
   "execution_count": 80,
   "id": "6650c807",
   "metadata": {},
   "outputs": [
    {
     "data": {
      "text/plain": [
       "array([[-1, -2, -2],\n",
       "       [ 1,  2,  3],\n",
       "       [ 4,  5,  6],\n",
       "       [10, 20, 90]])"
      ]
     },
     "execution_count": 80,
     "metadata": {},
     "output_type": "execute_result"
    }
   ],
   "source": [
    "two_dim_array = np.insert(two_dim_array, 0, [-1, -2, -2], 0)\n",
    "two_dim_array"
   ]
  },
  {
   "cell_type": "code",
   "execution_count": 85,
   "id": "acbc3b73",
   "metadata": {},
   "outputs": [
    {
     "data": {
      "text/plain": [
       "array([[ -1,  -2,  -2],\n",
       "       [  1,   2,   3],\n",
       "       [  4,   5,   6],\n",
       "       [ 10,  20,  90],\n",
       "       [-10, -20, -30]])"
      ]
     },
     "execution_count": 85,
     "metadata": {},
     "output_type": "execute_result"
    }
   ],
   "source": [
    "two_dim_array = np.append(two_dim_array, [[-10, -20, -30]], axis=0)\n",
    "two_dim_array"
   ]
  },
  {
   "cell_type": "code",
   "execution_count": 86,
   "id": "107c6cd3",
   "metadata": {},
   "outputs": [
    {
     "data": {
      "text/plain": [
       "array([[ -1,  -2,  -2],\n",
       "       [  1,   2,   3],\n",
       "       [ 10,  20,  90],\n",
       "       [-10, -20, -30]])"
      ]
     },
     "execution_count": 86,
     "metadata": {},
     "output_type": "execute_result"
    }
   ],
   "source": [
    "two_dim_array = np.delete(two_dim_array, 2, axis=0)\n",
    "two_dim_array"
   ]
  },
  {
   "cell_type": "code",
   "execution_count": null,
   "id": "cb528500",
   "metadata": {},
   "outputs": [],
   "source": []
  }
 ],
 "metadata": {
  "kernelspec": {
   "display_name": "Python 3 (ipykernel)",
   "language": "python",
   "name": "python3"
  },
  "language_info": {
   "codemirror_mode": {
    "name": "ipython",
    "version": 3
   },
   "file_extension": ".py",
   "mimetype": "text/x-python",
   "name": "python",
   "nbconvert_exporter": "python",
   "pygments_lexer": "ipython3",
   "version": "3.8.10"
  }
 },
 "nbformat": 4,
 "nbformat_minor": 5
}
