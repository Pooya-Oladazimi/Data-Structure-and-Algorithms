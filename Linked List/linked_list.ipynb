{
 "cells": [
  {
   "cell_type": "code",
   "execution_count": null,
   "id": "dbc44fa0",
   "metadata": {},
   "outputs": [],
   "source": []
  },
  {
   "cell_type": "markdown",
   "id": "518befee",
   "metadata": {},
   "source": [
    "# Single Linked List"
   ]
  },
  {
   "cell_type": "code",
   "execution_count": 4,
   "id": "7c555fc7",
   "metadata": {},
   "outputs": [],
   "source": [
    "class Node:\n",
    "    def __init__(self, value=None):\n",
    "        self.value = value\n",
    "        self.next = None\n",
    "    "
   ]
  },
  {
   "cell_type": "code",
   "execution_count": 25,
   "id": "0a7119f9",
   "metadata": {},
   "outputs": [],
   "source": [
    "class SingleLinkedList:\n",
    "    def __init__(self):\n",
    "        self.head = None\n",
    "        self.tail = None\n",
    "    \n",
    "    \n",
    "    def printList(self):\n",
    "        node = self.head\n",
    "        while node:\n",
    "            print(node.value)\n",
    "            node = node.next\n",
    "            \n",
    "    \n",
    "    def insert(self, value, location):\n",
    "        node = Node(value)\n",
    "        if not self.head:\n",
    "            self.head = node\n",
    "            self.tail = node\n",
    "        elif location == 0:\n",
    "            node.next = self.head\n",
    "            self.head = node\n",
    "        elif location == -1:\n",
    "            #end of the linked list\n",
    "            self.tail.next = node\n",
    "            self.tail = node\n",
    "        else:\n",
    "            temp = self.head\n",
    "            counter = 0\n",
    "            while counter < location - 1:\n",
    "                temp = temp.next\n",
    "                counter += 1\n",
    "            node.next = temp.next\n",
    "            temp.next = node\n",
    "    \n",
    "    \n",
    "    def delete(self, location):\n",
    "        if not self.head:\n",
    "            return False\n",
    "        elif location == 0:\n",
    "            if self.head == self.tail:\n",
    "                self.head = None\n",
    "                self.tail = None\n",
    "            else:                \n",
    "                self.head = self.head.next\n",
    "        elif location == -1:\n",
    "            if self.head == self.tail:\n",
    "                self.head = None\n",
    "                self.tail = None\n",
    "            else:\n",
    "                tempNode = self.head\n",
    "                while tempNode:\n",
    "                    if tempNode.next == self.tail:\n",
    "                        break\n",
    "                    tempNode = tempNode.next\n",
    "                tempNode.next = None\n",
    "                self.tail = tempNode\n",
    "        else:\n",
    "            tempNode = self.head\n",
    "            counter = 0\n",
    "            while counter < location - 1:                \n",
    "                tempNode = tempNode.next\n",
    "                counter += 1\n",
    "            nextNode = tempNode.next\n",
    "            tempNode.next = nextNode.next            \n",
    "        "
   ]
  },
  {
   "cell_type": "code",
   "execution_count": 26,
   "id": "e8363d30",
   "metadata": {},
   "outputs": [],
   "source": [
    "single_linked_list = SingleLinkedList()"
   ]
  },
  {
   "cell_type": "code",
   "execution_count": 27,
   "id": "3fa10ab6",
   "metadata": {},
   "outputs": [
    {
     "name": "stdout",
     "output_type": "stream",
     "text": [
      "1\n",
      "40\n",
      "30\n",
      "20\n"
     ]
    }
   ],
   "source": [
    "single_linked_list.insert(1, 0)\n",
    "single_linked_list.insert(20, -1)\n",
    "single_linked_list.insert(30, 1)\n",
    "single_linked_list.insert(40, 1)\n",
    "single_linked_list.printList()"
   ]
  },
  {
   "cell_type": "code",
   "execution_count": 28,
   "id": "62b486f5",
   "metadata": {},
   "outputs": [
    {
     "name": "stdout",
     "output_type": "stream",
     "text": [
      "1\n",
      "30\n",
      "20\n"
     ]
    }
   ],
   "source": [
    "single_linked_list.delete(1)\n",
    "single_linked_list.printList()"
   ]
  },
  {
   "cell_type": "code",
   "execution_count": 29,
   "id": "44cbb413",
   "metadata": {},
   "outputs": [
    {
     "name": "stdout",
     "output_type": "stream",
     "text": [
      "30\n",
      "20\n"
     ]
    }
   ],
   "source": [
    "single_linked_list.delete(0)\n",
    "single_linked_list.printList()"
   ]
  },
  {
   "cell_type": "code",
   "execution_count": 30,
   "id": "30e5101d",
   "metadata": {},
   "outputs": [
    {
     "name": "stdout",
     "output_type": "stream",
     "text": [
      "30\n"
     ]
    }
   ],
   "source": [
    "single_linked_list.delete(-1)\n",
    "single_linked_list.printList()"
   ]
  },
  {
   "cell_type": "code",
   "execution_count": null,
   "id": "a9841471",
   "metadata": {},
   "outputs": [],
   "source": []
  },
  {
   "cell_type": "code",
   "execution_count": null,
   "id": "3e3cb428",
   "metadata": {},
   "outputs": [],
   "source": []
  },
  {
   "cell_type": "code",
   "execution_count": null,
   "id": "ecf7fa85",
   "metadata": {},
   "outputs": [],
   "source": []
  },
  {
   "cell_type": "code",
   "execution_count": null,
   "id": "52283a1e",
   "metadata": {},
   "outputs": [],
   "source": []
  }
 ],
 "metadata": {
  "kernelspec": {
   "display_name": "Python 3 (ipykernel)",
   "language": "python",
   "name": "python3"
  },
  "language_info": {
   "codemirror_mode": {
    "name": "ipython",
    "version": 3
   },
   "file_extension": ".py",
   "mimetype": "text/x-python",
   "name": "python",
   "nbconvert_exporter": "python",
   "pygments_lexer": "ipython3",
   "version": "3.8.10"
  }
 },
 "nbformat": 4,
 "nbformat_minor": 5
}
